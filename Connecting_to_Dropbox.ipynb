{
  "nbformat": 4,
  "nbformat_minor": 0,
  "metadata": {
    "colab": {
      "provenance": [],
      "collapsed_sections": [],
      "authorship_tag": "ABX9TyMV3Sy4qUYJ2CExgeh5FMpm",
      "include_colab_link": true
    },
    "kernelspec": {
      "name": "python3",
      "display_name": "Python 3"
    },
    "language_info": {
      "name": "python"
    }
  },
  "cells": [
    {
      "cell_type": "markdown",
      "metadata": {
        "id": "view-in-github",
        "colab_type": "text"
      },
      "source": [
        "<a href=\"https://colab.research.google.com/github/sahaanirbannew/spacy-custom-NER-bird-names/blob/main/Connecting_to_Dropbox.ipynb\" target=\"_parent\"><img src=\"https://colab.research.google.com/assets/colab-badge.svg\" alt=\"Open In Colab\"/></a>"
      ]
    },
    {
      "cell_type": "markdown",
      "source": [
        "**The Process:**\n",
        "\n",
        "\n",
        "1.   Edit a photograph on Adobe Lightroom, export it to a Dropbox folder.\n",
        "2.   Program takes image from Dropbox folder, posts it with description. \n",
        "\n"
      ],
      "metadata": {
        "id": "IC363VtuYHeC"
      }
    },
    {
      "cell_type": "code",
      "source": [
        "#!pip3 install dropbox"
      ],
      "metadata": {
        "id": "KIMYVzy9ZDoD"
      },
      "execution_count": 3,
      "outputs": []
    },
    {
      "cell_type": "code",
      "source": [
        "import pathlib\n",
        "import pandas as pd\n",
        "import dropbox\n",
        "from dropbox.exceptions import AuthError\n",
        "import tweepy \n",
        "import pickle "
      ],
      "metadata": {
        "id": "Tjqpq9mpYdEW"
      },
      "execution_count": 77,
      "outputs": []
    },
    {
      "cell_type": "code",
      "source": [
        "def to_log(type_,text):\n",
        "  if type_ == \"i\":\n",
        "    log[\"info\"].append(text)\n",
        "  if type_ == \"e\":\n",
        "    log[\"error\"].append(text)\n",
        "\n",
        "\n",
        "def connect_to_dropbox():\n",
        "  try:\n",
        "    TOKEN = \"sl.BOspRcQ35ip02mXPUzE6qGd3om4U5de2Hvfqp9xJujXVHMwhVNxg2g6bxlyUTo7SN10YA1j3HwTwOgOd6hH9hhcT4kf-DM2LREN2pDl-SMMM_LxzHacKMRkPCUy53uzsMWJ4zn9B\"\n",
        "    dbx = dropbox.Dropbox(TOKEN)\n",
        "    to_log(\"i\",\"Dropbox connection made.\") \n",
        "    return dbx \n",
        "  except Exception as e:\n",
        "    to_log(\"e\",\"Dropbox connection failed.\")  \n",
        "\n",
        "def list_files_in_folder(dbx, dropbox_folder):\n",
        "  files_ = []\n",
        "  try: \n",
        "    files = dbx.files_list_folder(dropbox_folder).entries\n",
        "    if len(files)>0: to_log(\"i\",\"There are files existing in the folder.\") \n",
        "    for file in files:\n",
        "      files_.append([file.name,file.path_lower]) \n",
        "    return files_\n",
        "  except Exception as e:\n",
        "    to_log(\"e\",str(e)) \n",
        "\n",
        "def fetch_already_uploaded_image_list():\n",
        "  file = open(\"/content/already_uploaded_image_list\",'rb')\n",
        "  bird_list_df = pickle.load(file) \n",
        "  return bird_list_df\n",
        "\n",
        "def create_twitter_app_obj():\n",
        "  consumer_key = \"iPaIdR8GRI59yTJMs0Es0dIBN\"\n",
        "  consumer_secret = \"pLadg3UaLeK3yKDujRMChRN3p8hUDBOjBsuOBy8j8ERr4zz1vs\"\n",
        "  access_token = \"39085479-AabHt6bmFSbClDfUZuHjModYPAxVlOxHeMA79UyVt\"\n",
        "  access_token_secret = \"3IqXDISfqg14wzMNNn2AX4KYG9Wfkltt21QxKasE4YNnG\"\n",
        "  auth = tweepy.OAuthHandler(consumer_key, consumer_secret)\n",
        "  auth.set_access_token(access_token, access_token_secret) \n",
        "\n",
        "  try:\n",
        "    api = tweepy.API(auth) \n",
        "    return api\n",
        "  except Exception as e:\n",
        "   to_log(\"e\",str(e))\n",
        "  return 0\n",
        "\n",
        "def download_files_from_dropbox(old_list):\n",
        "  files = dbx.files_list_folder(\"/to_twitter\").entries\n",
        "  for file in files:\n",
        "    if file.name in files__:\n",
        "      file_path=file.path_lower\n",
        "      file_name=file.name\n",
        "      dbx.files_download_to_file(download_path=\"/content/\"+file_name,path=file_path)\n",
        "\n",
        "def dump_already_uploaded_image_list(list_of_files):\n",
        "  filepath = open(\"/content/already_uploaded_image_list\",'wb') \n",
        "  pickle.dump(list_of_files, filepath)                     \n",
        "  filepath.close() \n"
      ],
      "metadata": {
        "id": "nFofsNutZKeH"
      },
      "execution_count": 83,
      "outputs": []
    },
    {
      "cell_type": "code",
      "source": [
        "log = {}\n",
        "log[\"info\"] = []\n",
        "log[\"error\"] = [] \n",
        "dropbox_folder = \"/to_twitter\"\n",
        "dbx = connect_to_dropbox()\n",
        "\n",
        "already_uploaded_image_list = pd.DataFrame(fetch_already_uploaded_image_list() , columns =['name', 'filepath'])  \n",
        "present_set_of_images = pd.DataFrame(list_files_in_folder(dbx, dropbox_folder) , columns =['name', 'filepath'])\n",
        "to_upload = present_set_of_images[~present_set_of_images.name.isin(already_uploaded_image_list.name)]\n"
      ],
      "metadata": {
        "id": "JkMOVMT6ZNlD"
      },
      "execution_count": 111,
      "outputs": []
    },
    {
      "cell_type": "code",
      "source": [
        "print(to_upload.iloc[0][\"name\"])\n",
        "path = to_upload.iloc[0][\"filepath\"]\n",
        "local_path = \"/content/\"+to_upload.iloc[0][\"name\"] "
      ],
      "metadata": {
        "colab": {
          "base_uri": "https://localhost:8080/"
        },
        "id": "4v6BtQKB1xEo",
        "outputId": "f8a50078-2e24-42ea-8c62-5c81d9417cdb"
      },
      "execution_count": 112,
      "outputs": [
        {
          "output_type": "stream",
          "name": "stdout",
          "text": [
            "DSC_6582.png\n"
          ]
        }
      ]
    },
    {
      "cell_type": "code",
      "source": [
        "download_status = dbx.files_download_to_file(local_path,path)"
      ],
      "metadata": {
        "colab": {
          "base_uri": "https://localhost:8080/",
          "height": 338
        },
        "id": "KrXtyjCK3h5P",
        "outputId": "53fed5db-a1ec-4281-af98-6bbf33814194"
      },
      "execution_count": 113,
      "outputs": [
        {
          "output_type": "error",
          "ename": "ApiError",
          "evalue": "ignored",
          "traceback": [
            "\u001b[0;31m---------------------------------------------------------------------------\u001b[0m",
            "\u001b[0;31mApiError\u001b[0m                                  Traceback (most recent call last)",
            "\u001b[0;32m<ipython-input-113-2acc167bf427>\u001b[0m in \u001b[0;36m<module>\u001b[0;34m\u001b[0m\n\u001b[0;32m----> 1\u001b[0;31m \u001b[0mdownload_status\u001b[0m \u001b[0;34m=\u001b[0m \u001b[0mdbx\u001b[0m\u001b[0;34m.\u001b[0m\u001b[0mfiles_download_to_file\u001b[0m\u001b[0;34m(\u001b[0m\u001b[0mlocal_path\u001b[0m\u001b[0;34m,\u001b[0m\u001b[0mpath\u001b[0m\u001b[0;34m)\u001b[0m\u001b[0;34m\u001b[0m\u001b[0;34m\u001b[0m\u001b[0m\n\u001b[0m",
            "\u001b[0;32m/usr/local/lib/python3.7/dist-packages/dropbox/base.py\u001b[0m in \u001b[0;36mfiles_download_to_file\u001b[0;34m(self, download_path, path, rev)\u001b[0m\n\u001b[1;32m   1455\u001b[0m             \u001b[0;34m'files'\u001b[0m\u001b[0;34m,\u001b[0m\u001b[0;34m\u001b[0m\u001b[0;34m\u001b[0m\u001b[0m\n\u001b[1;32m   1456\u001b[0m             \u001b[0marg\u001b[0m\u001b[0;34m,\u001b[0m\u001b[0;34m\u001b[0m\u001b[0;34m\u001b[0m\u001b[0m\n\u001b[0;32m-> 1457\u001b[0;31m             \u001b[0;32mNone\u001b[0m\u001b[0;34m,\u001b[0m\u001b[0;34m\u001b[0m\u001b[0;34m\u001b[0m\u001b[0m\n\u001b[0m\u001b[1;32m   1458\u001b[0m         )\n\u001b[1;32m   1459\u001b[0m         \u001b[0mself\u001b[0m\u001b[0;34m.\u001b[0m\u001b[0m_save_body_to_file\u001b[0m\u001b[0;34m(\u001b[0m\u001b[0mdownload_path\u001b[0m\u001b[0;34m,\u001b[0m \u001b[0mr\u001b[0m\u001b[0;34m[\u001b[0m\u001b[0;36m1\u001b[0m\u001b[0;34m]\u001b[0m\u001b[0;34m)\u001b[0m\u001b[0;34m\u001b[0m\u001b[0;34m\u001b[0m\u001b[0m\n",
            "\u001b[0;32m/usr/local/lib/python3.7/dist-packages/dropbox/dropbox_client.py\u001b[0m in \u001b[0;36mrequest\u001b[0;34m(self, route, namespace, request_arg, request_binary, timeout)\u001b[0m\n\u001b[1;32m    352\u001b[0m                            \u001b[0mdeserialized_result\u001b[0m\u001b[0;34m,\u001b[0m\u001b[0;34m\u001b[0m\u001b[0;34m\u001b[0m\u001b[0m\n\u001b[1;32m    353\u001b[0m                            \u001b[0muser_message_text\u001b[0m\u001b[0;34m,\u001b[0m\u001b[0;34m\u001b[0m\u001b[0;34m\u001b[0m\u001b[0m\n\u001b[0;32m--> 354\u001b[0;31m                            user_message_locale)\n\u001b[0m\u001b[1;32m    355\u001b[0m         \u001b[0;32melif\u001b[0m \u001b[0mroute_style\u001b[0m \u001b[0;34m==\u001b[0m \u001b[0mself\u001b[0m\u001b[0;34m.\u001b[0m\u001b[0m_ROUTE_STYLE_DOWNLOAD\u001b[0m\u001b[0;34m:\u001b[0m\u001b[0;34m\u001b[0m\u001b[0;34m\u001b[0m\u001b[0m\n\u001b[1;32m    356\u001b[0m             \u001b[0;32mreturn\u001b[0m \u001b[0;34m(\u001b[0m\u001b[0mdeserialized_result\u001b[0m\u001b[0;34m,\u001b[0m \u001b[0mres\u001b[0m\u001b[0;34m.\u001b[0m\u001b[0mhttp_resp\u001b[0m\u001b[0;34m)\u001b[0m\u001b[0;34m\u001b[0m\u001b[0;34m\u001b[0m\u001b[0m\n",
            "\u001b[0;31mApiError\u001b[0m: ApiError('7bda8d9886304c31acaa27b9488831ed', DownloadError('path', LookupError('not_found', None)))"
          ]
        }
      ]
    },
    {
      "cell_type": "code",
      "source": [
        "twitter = create_twitter_app_obj() \n",
        "media = twitter.media_upload(local_path)\n",
        "tweet_text = \"This would be automated soon.\"\n",
        "post_result = twitter.update_status(status=tweet_text, media_ids=[media.media_id])"
      ],
      "metadata": {
        "colab": {
          "base_uri": "https://localhost:8080/",
          "height": 373
        },
        "id": "8TuPcrxy3KH3",
        "outputId": "a691baf4-f740-4f45-c37f-ac2453838301"
      },
      "execution_count": 108,
      "outputs": [
        {
          "output_type": "error",
          "ename": "TweepError",
          "evalue": "ignored",
          "traceback": [
            "\u001b[0;31m---------------------------------------------------------------------------\u001b[0m",
            "\u001b[0;31mTweepError\u001b[0m                                Traceback (most recent call last)",
            "\u001b[0;32m<ipython-input-108-c70a8a3f959b>\u001b[0m in \u001b[0;36m<module>\u001b[0;34m\u001b[0m\n\u001b[1;32m      1\u001b[0m \u001b[0mtwitter\u001b[0m \u001b[0;34m=\u001b[0m \u001b[0mcreate_twitter_app_obj\u001b[0m\u001b[0;34m(\u001b[0m\u001b[0;34m)\u001b[0m\u001b[0;34m\u001b[0m\u001b[0;34m\u001b[0m\u001b[0m\n\u001b[0;32m----> 2\u001b[0;31m \u001b[0mmedia\u001b[0m \u001b[0;34m=\u001b[0m \u001b[0mtwitter\u001b[0m\u001b[0;34m.\u001b[0m\u001b[0mmedia_upload\u001b[0m\u001b[0;34m(\u001b[0m\u001b[0mlocal_path\u001b[0m\u001b[0;34m)\u001b[0m\u001b[0;34m\u001b[0m\u001b[0;34m\u001b[0m\u001b[0m\n\u001b[0m\u001b[1;32m      3\u001b[0m \u001b[0mtweet_text\u001b[0m \u001b[0;34m=\u001b[0m \u001b[0;34m\"This would be automated soon.\"\u001b[0m\u001b[0;34m\u001b[0m\u001b[0;34m\u001b[0m\u001b[0m\n\u001b[1;32m      4\u001b[0m \u001b[0mpost_result\u001b[0m \u001b[0;34m=\u001b[0m \u001b[0mtwitter\u001b[0m\u001b[0;34m.\u001b[0m\u001b[0mupdate_status\u001b[0m\u001b[0;34m(\u001b[0m\u001b[0mstatus\u001b[0m\u001b[0;34m=\u001b[0m\u001b[0mtweet_text\u001b[0m\u001b[0;34m,\u001b[0m \u001b[0mmedia_ids\u001b[0m\u001b[0;34m=\u001b[0m\u001b[0;34m[\u001b[0m\u001b[0mmedia\u001b[0m\u001b[0;34m.\u001b[0m\u001b[0mmedia_id\u001b[0m\u001b[0;34m]\u001b[0m\u001b[0;34m)\u001b[0m\u001b[0;34m\u001b[0m\u001b[0;34m\u001b[0m\u001b[0m\n",
            "\u001b[0;32m/usr/local/lib/python3.7/dist-packages/tweepy/api.py\u001b[0m in \u001b[0;36mmedia_upload\u001b[0;34m(self, filename, *args, **kwargs)\u001b[0m\n\u001b[1;32m    237\u001b[0m         headers, post_data = API._pack_image(filename, max_size,\n\u001b[1;32m    238\u001b[0m                                              \u001b[0mform_field\u001b[0m\u001b[0;34m=\u001b[0m\u001b[0;34m'media'\u001b[0m\u001b[0;34m,\u001b[0m \u001b[0mf\u001b[0m\u001b[0;34m=\u001b[0m\u001b[0mf\u001b[0m\u001b[0;34m,\u001b[0m\u001b[0;34m\u001b[0m\u001b[0;34m\u001b[0m\u001b[0m\n\u001b[0;32m--> 239\u001b[0;31m                                              file_type=file_type)\n\u001b[0m\u001b[1;32m    240\u001b[0m         \u001b[0mkwargs\u001b[0m\u001b[0;34m.\u001b[0m\u001b[0mupdate\u001b[0m\u001b[0;34m(\u001b[0m\u001b[0;34m{\u001b[0m\u001b[0;34m'headers'\u001b[0m\u001b[0;34m:\u001b[0m \u001b[0mheaders\u001b[0m\u001b[0;34m,\u001b[0m \u001b[0;34m'post_data'\u001b[0m\u001b[0;34m:\u001b[0m \u001b[0mpost_data\u001b[0m\u001b[0;34m}\u001b[0m\u001b[0;34m)\u001b[0m\u001b[0;34m\u001b[0m\u001b[0;34m\u001b[0m\u001b[0m\n\u001b[1;32m    241\u001b[0m \u001b[0;34m\u001b[0m\u001b[0m\n",
            "\u001b[0;32m/usr/local/lib/python3.7/dist-packages/tweepy/api.py\u001b[0m in \u001b[0;36m_pack_image\u001b[0;34m(filename, max_size, form_field, f, file_type)\u001b[0m\n\u001b[1;32m   1397\u001b[0m                 \u001b[0;32mif\u001b[0m \u001b[0mos\u001b[0m\u001b[0;34m.\u001b[0m\u001b[0mpath\u001b[0m\u001b[0;34m.\u001b[0m\u001b[0mgetsize\u001b[0m\u001b[0;34m(\u001b[0m\u001b[0mfilename\u001b[0m\u001b[0;34m)\u001b[0m \u001b[0;34m>\u001b[0m \u001b[0;34m(\u001b[0m\u001b[0mmax_size\u001b[0m \u001b[0;34m*\u001b[0m \u001b[0;36m1024\u001b[0m\u001b[0;34m)\u001b[0m\u001b[0;34m:\u001b[0m\u001b[0;34m\u001b[0m\u001b[0;34m\u001b[0m\u001b[0m\n\u001b[1;32m   1398\u001b[0m                     raise TweepError('File is too big, must be less than %skb.'\n\u001b[0;32m-> 1399\u001b[0;31m                                      % max_size)\n\u001b[0m\u001b[1;32m   1400\u001b[0m             \u001b[0;32mexcept\u001b[0m \u001b[0mos\u001b[0m\u001b[0;34m.\u001b[0m\u001b[0merror\u001b[0m \u001b[0;32mas\u001b[0m \u001b[0me\u001b[0m\u001b[0;34m:\u001b[0m\u001b[0;34m\u001b[0m\u001b[0;34m\u001b[0m\u001b[0m\n\u001b[1;32m   1401\u001b[0m                 \u001b[0;32mraise\u001b[0m \u001b[0mTweepError\u001b[0m\u001b[0;34m(\u001b[0m\u001b[0;34m'Unable to access file: %s'\u001b[0m \u001b[0;34m%\u001b[0m \u001b[0me\u001b[0m\u001b[0;34m.\u001b[0m\u001b[0mstrerror\u001b[0m\u001b[0;34m)\u001b[0m\u001b[0;34m\u001b[0m\u001b[0;34m\u001b[0m\u001b[0m\n",
            "\u001b[0;31mTweepError\u001b[0m: File is too big, must be less than 4883kb."
          ]
        }
      ]
    }
  ]
}
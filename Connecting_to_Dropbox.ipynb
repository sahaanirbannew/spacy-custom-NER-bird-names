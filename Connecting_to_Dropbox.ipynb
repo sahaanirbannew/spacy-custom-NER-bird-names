{
  "nbformat": 4,
  "nbformat_minor": 0,
  "metadata": {
    "colab": {
      "provenance": [],
      "collapsed_sections": [],
      "authorship_tag": "ABX9TyOnNPUon8+8GVmBjihUYphn",
      "include_colab_link": true
    },
    "kernelspec": {
      "name": "python3",
      "display_name": "Python 3"
    },
    "language_info": {
      "name": "python"
    }
  },
  "cells": [
    {
      "cell_type": "markdown",
      "metadata": {
        "id": "view-in-github",
        "colab_type": "text"
      },
      "source": [
        "<a href=\"https://colab.research.google.com/github/sahaanirbannew/spacy-custom-NER-bird-names/blob/main/Connecting_to_Dropbox.ipynb\" target=\"_parent\"><img src=\"https://colab.research.google.com/assets/colab-badge.svg\" alt=\"Open In Colab\"/></a>"
      ]
    },
    {
      "cell_type": "markdown",
      "source": [
        "**The Process:**\n",
        "\n",
        "\n",
        "1.   Edit a photograph on Adobe Lightroom, export it to a Dropbox folder.\n",
        "2.   Program takes image from Dropbox folder, posts it with description. \n",
        "\n"
      ],
      "metadata": {
        "id": "IC363VtuYHeC"
      }
    },
    {
      "cell_type": "code",
      "source": [
        "!pip3 install dropbox"
      ],
      "metadata": {
        "id": "KIMYVzy9ZDoD",
        "colab": {
          "base_uri": "https://localhost:8080/"
        },
        "outputId": "b15b2e6a-1c94-4f01-f78a-3b5481683788"
      },
      "execution_count": 45,
      "outputs": [
        {
          "output_type": "stream",
          "name": "stdout",
          "text": [
            "Looking in indexes: https://pypi.org/simple, https://us-python.pkg.dev/colab-wheels/public/simple/\n",
            "Requirement already satisfied: dropbox in /usr/local/lib/python3.7/dist-packages (11.34.0)\n",
            "Requirement already satisfied: stone>=2.* in /usr/local/lib/python3.7/dist-packages (from dropbox) (3.3.1)\n",
            "Requirement already satisfied: six>=1.12.0 in /usr/local/lib/python3.7/dist-packages (from dropbox) (1.15.0)\n",
            "Requirement already satisfied: requests>=2.16.2 in /usr/local/lib/python3.7/dist-packages (from dropbox) (2.23.0)\n",
            "Requirement already satisfied: certifi>=2017.4.17 in /usr/local/lib/python3.7/dist-packages (from requests>=2.16.2->dropbox) (2022.6.15)\n",
            "Requirement already satisfied: chardet<4,>=3.0.2 in /usr/local/lib/python3.7/dist-packages (from requests>=2.16.2->dropbox) (3.0.4)\n",
            "Requirement already satisfied: urllib3!=1.25.0,!=1.25.1,<1.26,>=1.21.1 in /usr/local/lib/python3.7/dist-packages (from requests>=2.16.2->dropbox) (1.24.3)\n",
            "Requirement already satisfied: idna<3,>=2.5 in /usr/local/lib/python3.7/dist-packages (from requests>=2.16.2->dropbox) (2.10)\n",
            "Requirement already satisfied: ply>=3.4 in /usr/local/lib/python3.7/dist-packages (from stone>=2.*->dropbox) (3.11)\n"
          ]
        }
      ]
    },
    {
      "cell_type": "code",
      "source": [
        "import pathlib\n",
        "import pandas as pd\n",
        "import dropbox\n",
        "from dropbox.exceptions import AuthError\n",
        "import tweepy \n",
        "import pickle \n",
        "import csv\n",
        "import datetime \n",
        "from datetime import datetime \n",
        "import operator\n",
        "import time\n",
        "import requests\n",
        "import os\n",
        "import re\n",
        "\n",
        "log = {}\n",
        "log[\"info\"] = []\n",
        "log[\"error\"] = []\n",
        "\n",
        "def to_log(type_,text):\n",
        "  if type_ == \"i\":\n",
        "    log[\"info\"].append(text)\n",
        "  if type_ == \"e\":\n",
        "    log[\"error\"].append(text)\n",
        "\n",
        "\n",
        "def connect_to_dropbox(token):\n",
        "  try:\n",
        "    TOKEN = token\n",
        "    dbx = dropbox.Dropbox(TOKEN)\n",
        "    to_log(\"i\",\"Dropbox connection made.\") \n",
        "    return dbx \n",
        "  except Exception as e:\n",
        "    to_log(\"e\",\"Dropbox connection failed.\")  \n",
        "\n",
        "def list_files_in_folder(dbx, dropbox_folder):\n",
        "  files_ = []\n",
        "  try: \n",
        "    files = dbx.files_list_folder(dropbox_folder).entries\n",
        "    if len(files)>0: to_log(\"i\",\"There are files existing in the folder.\") \n",
        "    for file in files:\n",
        "      files_.append([file.name,file.path_lower]) \n",
        "    return files_\n",
        "  except Exception as e:\n",
        "    to_log(\"e\",str(e))\n",
        "\n",
        "def fetch_already_uploaded_image_list():\n",
        "  try:\n",
        "    file = open(\"/content/already_uploaded_image_list\",'rb')\n",
        "    bird_list_list = pickle.load(file) \n",
        "    return bird_list_list\n",
        "  except Exception as e: \n",
        "    to_log(\"e\",str(e))\n",
        "    return [[\"0.jpg\",\"o.jpg\"]]\n",
        "\n",
        "def create_twitter_app_obj():\n",
        "  consumer_key = \"iPaIdR8GRI59yTJMs0Es0dIBN\"\n",
        "  consumer_secret = \"pLadg3UaLeK3yKDujRMChRN3p8hUDBOjBsuOBy8j8ERr4zz1vs\"\n",
        "  access_token = \"39085479-AabHt6bmFSbClDfUZuHjModYPAxVlOxHeMA79UyVt\"\n",
        "  access_token_secret = \"3IqXDISfqg14wzMNNn2AX4KYG9Wfkltt21QxKasE4YNnG\"\n",
        "  auth = tweepy.OAuthHandler(consumer_key, consumer_secret)\n",
        "  auth.set_access_token(access_token, access_token_secret) \n",
        "\n",
        "  try:\n",
        "    api = tweepy.API(auth) \n",
        "    return api\n",
        "  except Exception as e:\n",
        "   to_log(\"e\",str(e))\n",
        "  return 0\n",
        "\n",
        "def download_files_from_dropbox(old_list,folder_name,dbx):\n",
        "  files = dbx.files_list_folder(folder_name).entries\n",
        "  for file in files:\n",
        "    if file.name in files__:\n",
        "      file_path=file.path_lower\n",
        "      file_name=file.name\n",
        "      dbx.files_download_to_file(download_path=\"/content/\"+file_name,path=file_path)\n",
        "\n",
        "def dump_already_uploaded_image_list(list_of_files):\n",
        "  filepath = open(\"/content/already_uploaded_image_list\",'wb') \n",
        "  pickle.dump(list_of_files, filepath)                     \n",
        "  filepath.close() \n",
        "\n",
        "def get_context_text(link_to_context, dbx):\n",
        "  #download the context file. \n",
        "  dbx.files_download_to_file(\"/content/context.txt\",link_to_context)\n",
        "\n",
        "  #read the text\n",
        "  with open(\"/content/context.txt\") as f:\n",
        "    lines = f.readlines()\n",
        "  return lines\n",
        "\n",
        "def find_all_hashtags(api, search_word):\n",
        "  new_search = \"#\" +search_word + \" -filter:retweets\"  \n",
        "  hashtags = {}\n",
        "\n",
        "  for tweet in tweepy.Cursor(api.search,q=new_search,count=100,\n",
        "                            lang=\"en\",\n",
        "                            since_id=0, tweet_mode=\"extended\").items(): \n",
        "\n",
        "    for tag in tweet.entities[\"hashtags\"]:\n",
        "      if tag[\"text\"] not in hashtags: \n",
        "        hashtags[tag[\"text\"]] = 1\n",
        "      else: \n",
        "        hashtags[tag[\"text\"]] += 1\n",
        "\n",
        "  return hashtags\n",
        "\n",
        "def return_top_hashtags(hashtags, k): \n",
        "  sorted_d = dict(sorted(hashtags.items(), key=operator.itemgetter(1),reverse=True))\n",
        "  count = 0\n",
        "  top_hashtags_str = \"\" \n",
        "\n",
        "  for hashtag in sorted_d:  \n",
        "    top_hashtags_str = top_hashtags_str + \" #\" + hashtag \n",
        "    count += 1\n",
        "    if count == k: break \n",
        "  return top_hashtags_str\n",
        "\n",
        "def return_tweet_text(lines, hashtags_str):\n",
        "  tweet_text = \"\" \n",
        "  for line in lines: \n",
        "    tweet_text = tweet_text + line \n",
        "  tweet_text = tweet_text + hashtags_str\n",
        "  return tweet_text\n",
        "\n",
        "def validate_birdname(birdname):\n",
        "  birdname = ''.join((x for x in birdname if not x.isdigit())) \n",
        "  api_url = \"https://bird-name-ner-nlp.herokuapp.com/ner?sent=\"+birdname\n",
        "  response = requests.get(api_url).json()  \n",
        "  if len(response['bird-rule'])>0 or len(response['bird-ner'])>0:\n",
        "    return birdname\n",
        "  return \"\"\n",
        "\n",
        "def download_image_to_local(dropbox_filepath, filename, dbx):\n",
        "  dbx.files_download_to_file(\"/content/\"+filename,dropbox_filepath)\n",
        "  size = os.path.getsize(\"/content/\"+filename)\n",
        "  if size>4882999: print(\"Maybe it exceeds the size limit by Dropbox\")\n",
        "  return size,\"/content/\"+filename\n",
        "\n",
        "def add_new_entries_to_list(already_uploaded_image_list,to_upload): \n",
        "  for index, row in to_upload.iterrows():\n",
        "    already_uploaded_image_list.loc[len(already_uploaded_image_list.index)] = [row['name'],row['filepath']] \n",
        "  return already_uploaded_image_list\n",
        "\n",
        "def trigger_screen_response():\n",
        "  with_ = input(\"Who were you with? (Enter Twitter usernames) \")\n",
        "  place = input(\"Where did you photograph the birds? \")\n",
        "  date = input(\"When did you photograph the birds? dd.mm.yyyy \")\n",
        "  return with_, place, date\n",
        "\n",
        "def post_to_twitter(to_upload,lines, hashtags_str,twitter): \n",
        "  for index, row in to_upload.iterrows():\n",
        "    tweet_text = return_tweet_text(lines, hashtags_str)\n",
        "    birdname_mit_nummer = row[\"name\"].split(\".\")[0].lower() \n",
        "    birdname = validate_birdname(birdname_mit_nummer) \n",
        "\n",
        "    if len(birdname)==0: \n",
        "      print(birdname_mit_nummer, \" --skipped\") \n",
        "      continue \n",
        "\n",
        "    tweet_text =  birdname + \" \" + tweet_text \n",
        "    filesize, local_path= download_image_to_local(row[\"filepath\"], row[\"name\"], dbx) \n",
        "    print(filesize) \n",
        "    \n",
        "    try:\n",
        "      media = twitter.media_upload(local_path)\n",
        "      post_result = twitter.update_status(status=tweet_text, media_ids=[media.media_id]) \n",
        "    except Exception as e:\n",
        "      to_log(\"e\",str(e))\n",
        "      print(birdname, str(e))\n",
        "\n",
        "    print(local_path)\n",
        "    print(str(datetime.now())+\"Posted - \"+local_path)\n",
        "    os.remove(local_path) #this did not work. I dont know why. \n",
        "\n",
        "    time.sleep(10)"
      ],
      "metadata": {
        "id": "akoLyX8kADp4"
      },
      "execution_count": 67,
      "outputs": []
    },
    {
      "cell_type": "code",
      "source": [
        "# Hard Coded \n",
        "token = input(\"Input Token: \")\n",
        "if token == \"-\": token = \"DB__sl.BO2pntGFDyA6Js47RwJcGeRw3lT2xx3viN82cveWTrSjSwA4-ql7Q7W95LtPItb0Twf19ZKmuDgum15Z6e2W0DrBctvu7mWjGO0GXcoh5Udqfky0pjYT7EeBSBFrjmHYnhA_enxL\"\n",
        "search_word = \"IndiAves\" #It is okay to hard code this. \n",
        "\n",
        "#Variables\n",
        "folder_name = \"/\"+input(\"Enter folder name: \").strip()  \n",
        "max_hashtags = 5 \n",
        "\n",
        " \n",
        "lines = \"\"  \n",
        "dbx = connect_to_dropbox(token)\n",
        "already_uploaded_image_list = pd.DataFrame(fetch_already_uploaded_image_list() , columns =['name', 'filepath'])\n",
        "present_set_of_images = pd.DataFrame(list_files_in_folder(dbx, folder_name) , columns =['name', 'filepath']) \n",
        "try:\n",
        "  link_to_context = present_set_of_images['filepath'].where(present_set_of_images['name'] == \"context.txt\").iloc[0]\n",
        "  lines = get_context_text(link_to_context, dbx)  \n",
        "except Exception as e: \n",
        "  print(str(e))\n",
        "  with_, place, date = trigger_screen_response()\n",
        "  if len(place)<1 or len(place)<8:\n",
        "    print(\"You did not enter required fields. Exiting.\") \n",
        "  if len(with_)>1: \n",
        "    lines = \" | place: \"+place+\" | date: \"+date +\" | with: \"+with_\n",
        "  else:\n",
        "    lines = \" | place: \"+place+\" | date: \"+date"
      ],
      "metadata": {
        "id": "JkMOVMT6ZNlD",
        "colab": {
          "base_uri": "https://localhost:8080/"
        },
        "outputId": "3562d7b1-afbc-4668-9325-e594fc2757cc"
      },
      "execution_count": 71,
      "outputs": [
        {
          "name": "stdout",
          "output_type": "stream",
          "text": [
            "Input Token: -\n",
            "Enter folder name: empty\n",
            "'nan' expected to be a string, got float\n",
            "Who were you with? (Enter Twitter usernames) @shotsbynavin\n",
            "Where did you photograph the birds? Rajarhat, Kolkata\n",
            "When did you photograph the birds? dd.mm.yyyy 07.09.2022\n"
          ]
        }
      ]
    },
    {
      "cell_type": "code",
      "source": [
        "if len(lines)>1:\n",
        "  twitter = create_twitter_app_obj()\n",
        "  try_again = True\n",
        "  while (try_again == True): #at times it takes time.\n",
        "    try:\n",
        "      hashtags = find_all_hashtags(twitter,search_word) \n",
        "      hashtags_str = return_top_hashtags(hashtags, max_hashtags) \n",
        "      try_again = False \n",
        "    except Exception as e:\n",
        "      print(str(e)) \n",
        "      try_again = True \n",
        "      time.sleep(5)"
      ],
      "metadata": {
        "colab": {
          "base_uri": "https://localhost:8080/"
        },
        "id": "TdESVfglb1vn",
        "outputId": "5a40a546-f776-4e1e-de46-fcbcce8a7a61"
      },
      "execution_count": 72,
      "outputs": [
        {
          "output_type": "stream",
          "name": "stdout",
          "text": [
            "Twitter error response: status code = 500\n",
            "Twitter error response: status code = 500\n",
            "Twitter error response: status code = 503\n"
          ]
        }
      ]
    },
    {
      "cell_type": "code",
      "source": [
        "reponse = dbx.check_and_refresh_access_token()\n",
        "print(reponse)"
      ],
      "metadata": {
        "colab": {
          "base_uri": "https://localhost:8080/"
        },
        "id": "86K3tWd8TpCm",
        "outputId": "da756cdf-e2d7-48f3-ee18-0921d851d98d"
      },
      "execution_count": 73,
      "outputs": [
        {
          "output_type": "stream",
          "name": "stdout",
          "text": [
            "None\n"
          ]
        }
      ]
    },
    {
      "cell_type": "code",
      "source": [
        "while 1>0: \n",
        "  present_set_of_images = pd.DataFrame(list_files_in_folder(dbx, folder_name) , columns =['name', 'filepath']) \n",
        "  to_upload = present_set_of_images[~present_set_of_images.name.isin(already_uploaded_image_list.name)]\n",
        "  print(to_upload)\n",
        "  already_uploaded_image_list = add_new_entries_to_list(already_uploaded_image_list,to_upload)\n",
        "  post_to_twitter(to_upload,lines, hashtags_str)\n",
        "  time.sleep(600)"
      ],
      "metadata": {
        "colab": {
          "base_uri": "https://localhost:8080/",
          "height": 528
        },
        "id": "JQnS9GvL8unZ",
        "outputId": "3a3bff09-4a09-4623-c79b-5572f766263b"
      },
      "execution_count": 74,
      "outputs": [
        {
          "output_type": "stream",
          "name": "stdout",
          "text": [
            "                     name                       filepath\n",
            "0  red munia (male) 5.jpg  /empty/red munia (male) 5.jpg\n",
            "1  red munia (female).jpg  /empty/red munia (female).jpg\n",
            "Maybe it exceeds the size limit by Dropbox\n",
            "4014666\n",
            "/content/red munia (male) 5.jpg\n",
            "2022-09-07 10:14:08.526314Posted - /content/red munia (male) 5.jpg\n",
            "Maybe it exceeds the size limit by Dropbox\n",
            "3647692\n",
            "/content/red munia (female).jpg\n",
            "2022-09-07 10:14:23.503779Posted - /content/red munia (female).jpg\n",
            "                       name                         filepath\n",
            "2  scaly breasted munia.png  /empty/scaly breasted munia.png\n",
            "Maybe it exceeds the size limit by Dropbox\n",
            "11285598\n",
            "scaly breasted munia File is too big, must be less than 4883kb.\n",
            "/content/scaly breasted munia.png\n",
            "2022-09-07 10:24:35.529363Posted - /content/scaly breasted munia.png\n"
          ]
        },
        {
          "output_type": "error",
          "ename": "KeyboardInterrupt",
          "evalue": "ignored",
          "traceback": [
            "\u001b[0;31m---------------------------------------------------------------------------\u001b[0m",
            "\u001b[0;31mKeyboardInterrupt\u001b[0m                         Traceback (most recent call last)",
            "\u001b[0;32m<ipython-input-74-e6a9c20bc7c3>\u001b[0m in \u001b[0;36m<module>\u001b[0;34m\u001b[0m\n\u001b[1;32m      5\u001b[0m   \u001b[0malready_uploaded_image_list\u001b[0m \u001b[0;34m=\u001b[0m \u001b[0madd_new_entries_to_list\u001b[0m\u001b[0;34m(\u001b[0m\u001b[0malready_uploaded_image_list\u001b[0m\u001b[0;34m,\u001b[0m\u001b[0mto_upload\u001b[0m\u001b[0;34m)\u001b[0m\u001b[0;34m\u001b[0m\u001b[0;34m\u001b[0m\u001b[0m\n\u001b[1;32m      6\u001b[0m   \u001b[0mpost_to_twitter\u001b[0m\u001b[0;34m(\u001b[0m\u001b[0mto_upload\u001b[0m\u001b[0;34m,\u001b[0m\u001b[0mlines\u001b[0m\u001b[0;34m,\u001b[0m \u001b[0mhashtags_str\u001b[0m\u001b[0;34m)\u001b[0m\u001b[0;34m\u001b[0m\u001b[0;34m\u001b[0m\u001b[0m\n\u001b[0;32m----> 7\u001b[0;31m   \u001b[0mtime\u001b[0m\u001b[0;34m.\u001b[0m\u001b[0msleep\u001b[0m\u001b[0;34m(\u001b[0m\u001b[0;36m600\u001b[0m\u001b[0;34m)\u001b[0m\u001b[0;34m\u001b[0m\u001b[0;34m\u001b[0m\u001b[0m\n\u001b[0m",
            "\u001b[0;31mKeyboardInterrupt\u001b[0m: "
          ]
        }
      ]
    }
  ]
}